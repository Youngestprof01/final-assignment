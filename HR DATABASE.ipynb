{
 "cells": [
  {
   "cell_type": "raw",
   "id": "309fd858",
   "metadata": {},
   "source": [
    "The database used in this lab is an internal database. You will be working on a sample HR database. This HR database schema consists of 5 tables called EMPLOYEES, JOB_HISTORY, JOBS, DEPARTMENTS and LOCATIONS. Each table has a few rows of sample data. The following diagram shows the tables for the HR database:"
   ]
  },
  {
   "cell_type": "code",
   "execution_count": 18,
   "id": "35bb76f8",
   "metadata": {},
   "outputs": [],
   "source": [
    "import mysql.connector"
   ]
  },
  {
   "cell_type": "code",
   "execution_count": 26,
   "id": "285d2aae",
   "metadata": {},
   "outputs": [],
   "source": [
    "mydb = mysql.connector.connect(host = 'localhost', user='root',password='@Abimbola1', database='HR_DATABASE')"
   ]
  },
  {
   "cell_type": "code",
   "execution_count": 28,
   "id": "d9521355",
   "metadata": {},
   "outputs": [],
   "source": [
    "mycursor = mydb.cursor()"
   ]
  },
  {
   "cell_type": "code",
   "execution_count": 29,
   "id": "d5227717",
   "metadata": {},
   "outputs": [],
   "source": [
    "mycursor.execute('CREATE TABLE EMPLOYEES(EMP_ID VARCHAR(5) NOT NULL, F_NAME VARCHAR(20), L_NAME VARCHAR(25), SSN INT, B_DATE VARCHAR(15), SEX CHAR(1), ADDRESS VARCHAR(50), JOB_ID INT, SALARY INT, MANAGER_ID INT, DEP_ID INT)')"
   ]
  },
  {
   "cell_type": "code",
   "execution_count": 30,
   "id": "bf5c8449",
   "metadata": {},
   "outputs": [
    {
     "data": {
      "text/plain": [
       "[('EMP_ID', 'varchar(5)', 'NO', '', None, ''),\n",
       " ('F_NAME', 'varchar(20)', 'YES', '', None, ''),\n",
       " ('L_NAME', 'varchar(25)', 'YES', '', None, ''),\n",
       " ('SSN', 'int', 'YES', '', None, ''),\n",
       " ('B_DATE', 'varchar(15)', 'YES', '', None, ''),\n",
       " ('SEX', 'char(1)', 'YES', '', None, ''),\n",
       " ('ADDRESS', 'varchar(50)', 'YES', '', None, ''),\n",
       " ('JOB_ID', 'int', 'YES', '', None, ''),\n",
       " ('SALARY', 'int', 'YES', '', None, ''),\n",
       " ('MANAGER_ID', 'int', 'YES', '', None, ''),\n",
       " ('DEP_ID', 'int', 'YES', '', None, '')]"
      ]
     },
     "execution_count": 30,
     "metadata": {},
     "output_type": "execute_result"
    }
   ],
   "source": [
    "mycursor.execute('SHOW COLUMNS FROM EMPLOYEES')\n",
    "mycursor.fetchall()"
   ]
  },
  {
   "cell_type": "code",
   "execution_count": 31,
   "id": "65e1179e",
   "metadata": {},
   "outputs": [],
   "source": [
    "column = 'INSERT INTO EMPLOYEES VALUES(%s, %s, %s, %s, %s, %s, %s, %s, %s, %s, %s)'\n",
    "row = [('E1001', 'John', 'Thomas', '123456', '1976-01-09', 'M','5631 Rice, OakPark,IL', '100','100000','30001','2'),\n",
    "      ('E1002', 'Alice' ,'James', '123457', '1972-07-31', 'F', '980 Berry In, Elgin,IL', '200', '80000', '30002', '5'),\n",
    "      ('E1003', 'Steve', 'Wells', '123458', '1980-08-10', 'M', '291 Springs, Gary, IL', '300', '50000', '30002', '5')]\n",
    "\n",
    "mycursor.executemany(column,row)"
   ]
  },
  {
   "cell_type": "code",
   "execution_count": 32,
   "id": "6978c097",
   "metadata": {},
   "outputs": [],
   "source": [
    "mycursor.execute('CREATE TABLE JOB_HISTORY(EMPL_ID VARCHAR(5), START_DATE VARCHAR(15), JOBS_ID INT, DEPT_ID INT)')"
   ]
  },
  {
   "cell_type": "code",
   "execution_count": 33,
   "id": "95a0c8f0",
   "metadata": {},
   "outputs": [],
   "source": [
    "column = 'INSERT INTO JOB_HISTORY VALUES(%s, %s, %s, %s)'\n",
    "row = [('E1001', '2000-01-30', '100', '2'),\n",
    "      ('E1002', '2010-08-16','200','5'),\n",
    "      ('E1003', '2016-08-10', '300','5')]\n",
    "\n",
    "mycursor.executemany(column,row)"
   ]
  },
  {
   "cell_type": "code",
   "execution_count": 34,
   "id": "63bb4ac9",
   "metadata": {},
   "outputs": [],
   "source": [
    "mycursor.execute('CREATE TABLE JOBS(JOB_IDENT INT, JOB_TITLE VARCHAR(255), MIN_SALARY INT, MAX_SALARY INT)')"
   ]
  },
  {
   "cell_type": "code",
   "execution_count": 35,
   "id": "f59b2291",
   "metadata": {},
   "outputs": [],
   "source": [
    "column = 'INSERT INTO JOBS VALUES(%s, %s, %s, %s)'\n",
    "row = [('100', 'Sr. Architect', '60000', '100000'),\n",
    "      ('200', 'Sr.SoftwareDeveloper', '60000', '80000'),\n",
    "      ('300', 'Jr.SoftwareDeveloper', '40000', '60000')]\n",
    "mycursor.executemany(column, row)"
   ]
  },
  {
   "cell_type": "code",
   "execution_count": 36,
   "id": "26891662",
   "metadata": {},
   "outputs": [],
   "source": [
    "mycursor.execute('CREATE TABLE DEPARTMENTS(DEPT_ID_DEP INT, DEP_NAME VARCHAR(255), MANAGER_ID INT, LOC_ID VARCHAR(7))')"
   ]
  },
  {
   "cell_type": "code",
   "execution_count": 37,
   "id": "51f11c1d",
   "metadata": {},
   "outputs": [],
   "source": [
    "column = 'INSERT INTO DEPARTMENTS VALUES(%s, %s, %s, %s)'\n",
    "row = [('2', 'Architect Group', '30001', 'L0001'),\n",
    "      ('5', 'Software Development', '30002', 'L0002'),\n",
    "      ('7', 'Design Team','30003', 'L0003')]\n",
    "mycursor.executemany(column, row)"
   ]
  },
  {
   "cell_type": "code",
   "execution_count": 38,
   "id": "629b1e4c",
   "metadata": {},
   "outputs": [],
   "source": [
    "mycursor.execute('CREATE TABLE LOCATIONS(LOCT_ID VARCHAR(7), DEP_ID_LOC INT)')"
   ]
  },
  {
   "cell_type": "code",
   "execution_count": 39,
   "id": "e0b2f54e",
   "metadata": {},
   "outputs": [],
   "source": [
    "column = 'INSERT INTO LOCATIONS VALUES(%s,%s)'\n",
    "row = [('L0001', '2'),\n",
    "      ('L0002', '5'),\n",
    "      ('L0003', '7')]\n",
    "mycursor.executemany(column,row)"
   ]
  },
  {
   "cell_type": "code",
   "execution_count": 40,
   "id": "d8ebb9a5",
   "metadata": {},
   "outputs": [],
   "source": [
    "mycursor.execute('SELECT F_NAME, L_NAME FROM EMPLOYEES')"
   ]
  },
  {
   "cell_type": "code",
   "execution_count": 41,
   "id": "d8a4c884",
   "metadata": {},
   "outputs": [
    {
     "data": {
      "text/plain": [
       "[('John', 'Thomas'), ('Alice', 'James'), ('Steve', 'Wells')]"
      ]
     },
     "execution_count": 41,
     "metadata": {},
     "output_type": "execute_result"
    }
   ],
   "source": [
    "mycursor.fetchall()"
   ]
  },
  {
   "cell_type": "raw",
   "id": "6e507bf1",
   "metadata": {},
   "source": [
    "Retrieve all employees whose address is in Elgin,IL."
   ]
  },
  {
   "cell_type": "code",
   "execution_count": 42,
   "id": "2ba0d136",
   "metadata": {},
   "outputs": [
    {
     "data": {
      "text/plain": [
       "[('E1003',\n",
       "  'Steve',\n",
       "  'Wells',\n",
       "  123458,\n",
       "  '1980-08-10',\n",
       "  'M',\n",
       "  '291 Springs, Gary, IL',\n",
       "  300,\n",
       "  50000,\n",
       "  30002,\n",
       "  5)]"
      ]
     },
     "execution_count": 42,
     "metadata": {},
     "output_type": "execute_result"
    }
   ],
   "source": [
    "mycursor.execute('SELECT * FROM EMPLOYEES WHERE ADDRESS LIKE \"%Gary, IL%\"')\n",
    "mycursor.fetchall()\n"
   ]
  },
  {
   "cell_type": "code",
   "execution_count": 44,
   "id": "08edf884",
   "metadata": {},
   "outputs": [],
   "source": [
    "mycursor.execute('SELECT F_NAME, L_NAME FROM EMPLOYEES WHERE B_DATE LIKE \"197%\"')"
   ]
  },
  {
   "cell_type": "code",
   "execution_count": 45,
   "id": "951956fa",
   "metadata": {},
   "outputs": [
    {
     "data": {
      "text/plain": [
       "[('John', 'Thomas'), ('Alice', 'James')]"
      ]
     },
     "execution_count": 45,
     "metadata": {},
     "output_type": "execute_result"
    }
   ],
   "source": [
    "mycursor.fetchall()"
   ]
  },
  {
   "cell_type": "code",
   "execution_count": 46,
   "id": "60bce892",
   "metadata": {},
   "outputs": [],
   "source": [
    "mycursor.execute('SHOW TABLES FROM HR_DATABASE')"
   ]
  },
  {
   "cell_type": "code",
   "execution_count": 47,
   "id": "6c4bd3e5",
   "metadata": {},
   "outputs": [
    {
     "data": {
      "text/plain": [
       "[('DEPARTMENTS',), ('EMPLOYEES',), ('JOB_HISTORY',), ('JOBS',), ('LOCATIONS',)]"
      ]
     },
     "execution_count": 47,
     "metadata": {},
     "output_type": "execute_result"
    }
   ],
   "source": [
    "mycursor.fetchall()"
   ]
  },
  {
   "cell_type": "code",
   "execution_count": 48,
   "id": "16968278",
   "metadata": {},
   "outputs": [
    {
     "data": {
      "text/plain": [
       "[('EMP_ID', 'varchar(5)', 'NO', '', None, ''),\n",
       " ('F_NAME', 'varchar(20)', 'YES', '', None, ''),\n",
       " ('L_NAME', 'varchar(25)', 'YES', '', None, ''),\n",
       " ('SSN', 'int', 'YES', '', None, ''),\n",
       " ('B_DATE', 'varchar(15)', 'YES', '', None, ''),\n",
       " ('SEX', 'char(1)', 'YES', '', None, ''),\n",
       " ('ADDRESS', 'varchar(50)', 'YES', '', None, ''),\n",
       " ('JOB_ID', 'int', 'YES', '', None, ''),\n",
       " ('SALARY', 'int', 'YES', '', None, ''),\n",
       " ('MANAGER_ID', 'int', 'YES', '', None, ''),\n",
       " ('DEP_ID', 'int', 'YES', '', None, '')]"
      ]
     },
     "execution_count": 48,
     "metadata": {},
     "output_type": "execute_result"
    }
   ],
   "source": [
    "mycursor.execute('SHOW COLUMNS FROM EMPLOYEES')\n",
    "mycursor.fetchall()"
   ]
  },
  {
   "cell_type": "raw",
   "id": "5c651da9",
   "metadata": {},
   "source": [
    "In this lab, you will run through some SQL practice problems that will provide hands-on experience with nested SQL SELECT statements (also known as Sub-queries)."
   ]
  },
  {
   "cell_type": "raw",
   "id": "3adfabf6",
   "metadata": {},
   "source": [
    "SELECT column_name [, column_name ]\n",
    "FROM table1 [, table2 ]\n",
    "WHERE column_name OPERATOR\n",
    "   (SELECT column_name [, column_name ]\n",
    "   FROM table1 [, table2 ]\n",
    "   WHERE condition);"
   ]
  },
  {
   "cell_type": "code",
   "execution_count": 51,
   "id": "817be2e3",
   "metadata": {},
   "outputs": [
    {
     "name": "stdout",
     "output_type": "stream",
     "text": [
      "('E1003', 'Steve', 'Wells', 50000)\n"
     ]
    }
   ],
   "source": [
    "mycursor.execute('SELECT EMP_ID, F_NAME, L_NAME, SALARY FROM EMPLOYEES WHERE SALARY < (SELECT AVG(SALARY) FROM EMPLOYEES)')\n",
    "avgs = mycursor.fetchall()\n",
    "for i in avgs:\n",
    "    print(i)"
   ]
  },
  {
   "cell_type": "code",
   "execution_count": 54,
   "id": "7ad6a537",
   "metadata": {},
   "outputs": [
    {
     "data": {
      "text/plain": [
       "[('E1001', 100000, 100000), ('E1002', 80000, 100000), ('E1003', 50000, 100000)]"
      ]
     },
     "execution_count": 54,
     "metadata": {},
     "output_type": "execute_result"
    }
   ],
   "source": [
    "mycursor.execute('SELECT EMP_ID, SALARY, (SELECT MAX(SALARY) FROM EMPLOYEES) AS MAX_SALARY FROM EMPLOYEES')\n",
    "mycursor.fetchall()"
   ]
  },
  {
   "cell_type": "code",
   "execution_count": null,
   "id": "a8e13b59",
   "metadata": {},
   "outputs": [],
   "source": []
  }
 ],
 "metadata": {
  "kernelspec": {
   "display_name": "Python 3 (ipykernel)",
   "language": "python",
   "name": "python3"
  },
  "language_info": {
   "codemirror_mode": {
    "name": "ipython",
    "version": 3
   },
   "file_extension": ".py",
   "mimetype": "text/x-python",
   "name": "python",
   "nbconvert_exporter": "python",
   "pygments_lexer": "ipython3",
   "version": "3.9.12"
  }
 },
 "nbformat": 4,
 "nbformat_minor": 5
}
