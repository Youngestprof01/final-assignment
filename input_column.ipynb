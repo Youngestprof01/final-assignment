{
 "cells": [
  {
   "cell_type": "code",
   "execution_count": 1,
   "id": "73e9af6e",
   "metadata": {},
   "outputs": [],
   "source": [
    "def input_column():\n",
    "    x = 0\n",
    "    name_of_column = []\n",
    "    name = \" \"\n",
    "    num_of_column = int(input(\"Enter the number of column: \"))\n",
    "    while x < num_of_column:\n",
    "        name = input(\"Enter the name of column: \")\n",
    "        name_of_column.append(name)\n",
    "        x = x + 2\n",
    "    return name_of_column "
   ]
  },
  {
   "cell_type": "code",
   "execution_count": null,
   "id": "6993bfe7",
   "metadata": {},
   "outputs": [],
   "source": []
  }
 ],
 "metadata": {
  "kernelspec": {
   "display_name": "Python 3 (ipykernel)",
   "language": "python",
   "name": "python3"
  },
  "language_info": {
   "codemirror_mode": {
    "name": "ipython",
    "version": 3
   },
   "file_extension": ".py",
   "mimetype": "text/x-python",
   "name": "python",
   "nbconvert_exporter": "python",
   "pygments_lexer": "ipython3",
   "version": "3.9.12"
  }
 },
 "nbformat": 4,
 "nbformat_minor": 5
}
